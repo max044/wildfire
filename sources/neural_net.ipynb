{
 "cells": [
  {
   "cell_type": "code",
   "execution_count": 1,
   "id": "ae7bf8c8",
   "metadata": {},
   "outputs": [],
   "source": [
    "# for reading data\n",
    "import pandas as pd\n",
    "import numpy as np\n",
    "import matplotlib.pyplot as plt\n",
    "from sklearn.preprocessing import LabelEncoder\n",
    "from keras.wrappers.scikit_learn import KerasClassifier\n",
    "from keras.utils import np_utils\n",
    "\n",
    "# for modeling\n",
    "from keras.models import Sequential\n",
    "from keras.layers import Dense, Dropout\n",
    "from keras.callbacks import EarlyStopping"
   ]
  },
  {
   "cell_type": "code",
   "execution_count": 2,
   "id": "9fd2b431",
   "metadata": {},
   "outputs": [],
   "source": [
    "# read in the data\n",
    "# url = 'https://gist.githubusercontent.com/curran/a08a1080b88344b0c8a7/raw/639388c2cbc2120a14dcf466e85730eb8be498bb/iris.csv'\n",
    "df = pd.read_csv('../data/wildfire_dataset.csv')\n",
    "\n",
    "# shuffle the dataset! \n",
    "df = df.sample(frac=1).reset_index(drop=True)"
   ]
  },
  {
   "cell_type": "code",
   "execution_count": 3,
   "id": "b03d4542",
   "metadata": {},
   "outputs": [
    {
     "name": "stdout",
     "output_type": "stream",
     "text": [
      "(1389937, 5)\n",
      "(1389937,)\n"
     ]
    }
   ],
   "source": [
    "le = LabelEncoder()\n",
    "df['STAT_CAUSE_DESCR'] = le.fit_transform(df['STAT_CAUSE_DESCR'])\n",
    "df['STATE'] = le.fit_transform(df['STATE'])\n",
    "df['DATE'] = le.fit_transform(df['DATE'])\n",
    "\n",
    "df = df.drop('OBJECTID',axis=1)\n",
    "df = df.drop('NWCG_REPORTING_UNIT_NAME',axis=1)\n",
    "df = df.drop('FIRE_SIZE_CLASS',axis=1)\n",
    "df = df.drop('OWNER_DESCR',axis=1)\n",
    "df = df.drop('DATE',axis=1)\n",
    "df = df.dropna()\n",
    "    \n",
    "# split into X and Y\n",
    "# Y = df['species']\n",
    "# X = df.drop(['species'], axis=1)\n",
    "\n",
    "Y = df['STAT_CAUSE_DESCR']\n",
    "X = df.drop(['STAT_CAUSE_DESCR'], axis=1)\n",
    "\n",
    "print(X.shape)\n",
    "print(Y.shape)\n",
    "# convert to numpy arrays\n",
    "X = np.array(X)"
   ]
  },
  {
   "cell_type": "code",
   "execution_count": 4,
   "id": "63413b0c",
   "metadata": {},
   "outputs": [
    {
     "name": "stdout",
     "output_type": "stream",
     "text": [
      "[0 1 0 ... 0 0 0]\n",
      "[[1. 0. 0.]\n",
      " [0. 1. 0.]\n",
      " [1. 0. 0.]\n",
      " ...\n",
      " [1. 0. 0.]\n",
      " [1. 0. 0.]\n",
      " [1. 0. 0.]]\n"
     ]
    }
   ],
   "source": [
    "# # show Y\n",
    "# Y.head()\n",
    "\n",
    "# ## 0        setosa\n",
    "# ## 1     virginica\n",
    "# ## 2    versicolor\n",
    "# ## 3     virginica\n",
    "# ## 4        setosa\n",
    "\n",
    "# work with labels\n",
    "# encode class values as integers\n",
    "encoder = LabelEncoder()\n",
    "encoder.fit(Y)\n",
    "encoded_Y = encoder.transform(Y)\n",
    "# convert integers to dummy variables (i.e. one hot encoded)\n",
    "dummy_y = np_utils.to_categorical(encoded_Y)\n",
    "\n",
    "print(encoded_Y)\n",
    "\n",
    "print(dummy_y)"
   ]
  },
  {
   "cell_type": "code",
   "execution_count": 5,
   "id": "e55816c7",
   "metadata": {},
   "outputs": [
    {
     "name": "stdout",
     "output_type": "stream",
     "text": [
      "Metal device set to: Apple M1 Pro\n",
      "Model: \"sequential\"\n",
      "_________________________________________________________________\n",
      " Layer (type)                Output Shape              Param #   \n",
      "=================================================================\n",
      " dense (Dense)               (None, 16)                96        \n",
      "                                                                 \n",
      " dense_1 (Dense)             (None, 8)                 136       \n",
      "                                                                 \n",
      " dense_2 (Dense)             (None, 3)                 27        \n",
      "                                                                 \n",
      "=================================================================\n",
      "Total params: 259\n",
      "Trainable params: 259\n",
      "Non-trainable params: 0\n",
      "_________________________________________________________________\n"
     ]
    },
    {
     "name": "stderr",
     "output_type": "stream",
     "text": [
      "2022-11-16 00:35:57.939369: I tensorflow/core/common_runtime/pluggable_device/pluggable_device_factory.cc:305] Could not identify NUMA node of platform GPU ID 0, defaulting to 0. Your kernel may not have been built with NUMA support.\n",
      "2022-11-16 00:35:57.939483: I tensorflow/core/common_runtime/pluggable_device/pluggable_device_factory.cc:271] Created TensorFlow device (/job:localhost/replica:0/task:0/device:GPU:0 with 0 MB memory) -> physical PluggableDevice (device: 0, name: METAL, pci bus id: <undefined>)\n"
     ]
    }
   ],
   "source": [
    "# build a model\n",
    "model = Sequential()\n",
    "model.add(Dense(16, input_shape=(X.shape[1],), activation='relu')) # input shape is (features,)\n",
    "model.add(Dense(8, activation='relu')) # input shape is (features,)\n",
    "model.add(Dense(3, activation='softmax'))\n",
    "model.summary()\n",
    "\n",
    "# compile the model\n",
    "model.compile(optimizer='rmsprop', \n",
    "              loss='categorical_crossentropy', # this is different instead of binary_crossentropy (for regular classification)\n",
    "              metrics=['accuracy'])"
   ]
  },
  {
   "cell_type": "code",
   "execution_count": 6,
   "id": "628e2e4e",
   "metadata": {
    "scrolled": false
   },
   "outputs": [
    {
     "name": "stdout",
     "output_type": "stream",
     "text": [
      "Epoch 1/8000000\n"
     ]
    },
    {
     "name": "stderr",
     "output_type": "stream",
     "text": [
      "2022-11-16 00:35:58.085070: W tensorflow/core/platform/profile_utils/cpu_utils.cc:128] Failed to get CPU frequency: 0 Hz\n",
      "2022-11-16 00:35:58.296008: I tensorflow/core/grappler/optimizers/custom_graph_optimizer_registry.cc:113] Plugin optimizer for device_type GPU is enabled.\n"
     ]
    },
    {
     "name": "stdout",
     "output_type": "stream",
     "text": [
      "3707/3707 [==============================] - ETA: 0s - loss: 0.6941 - accuracy: 0.7640"
     ]
    },
    {
     "name": "stderr",
     "output_type": "stream",
     "text": [
      "2022-11-16 00:36:39.507881: I tensorflow/core/grappler/optimizers/custom_graph_optimizer_registry.cc:113] Plugin optimizer for device_type GPU is enabled.\n"
     ]
    },
    {
     "name": "stdout",
     "output_type": "stream",
     "text": [
      "3707/3707 [==============================] - 47s 13ms/step - loss: 0.6941 - accuracy: 0.7640 - val_loss: 0.5740 - val_accuracy: 0.7733\n",
      "Epoch 2/8000000\n",
      "3707/3707 [==============================] - 44s 12ms/step - loss: 0.5496 - accuracy: 0.7902 - val_loss: 0.5869 - val_accuracy: 0.7581\n",
      "Epoch 3/8000000\n",
      "3707/3707 [==============================] - 44s 12ms/step - loss: 0.5136 - accuracy: 0.7982 - val_loss: 0.5263 - val_accuracy: 0.7937\n",
      "Epoch 4/8000000\n",
      "3707/3707 [==============================] - 44s 12ms/step - loss: 0.5054 - accuracy: 0.8026 - val_loss: 0.4971 - val_accuracy: 0.8135\n",
      "Epoch 5/8000000\n",
      "3707/3707 [==============================] - 44s 12ms/step - loss: 0.5015 - accuracy: 0.8067 - val_loss: 0.4990 - val_accuracy: 0.8071\n",
      "Epoch 6/8000000\n",
      "3707/3707 [==============================] - 44s 12ms/step - loss: 0.4946 - accuracy: 0.8101 - val_loss: 0.4969 - val_accuracy: 0.8112\n",
      "Epoch 7/8000000\n",
      "3707/3707 [==============================] - 44s 12ms/step - loss: 0.4895 - accuracy: 0.8127 - val_loss: 0.4956 - val_accuracy: 0.8087\n",
      "Epoch 8/8000000\n",
      "3707/3707 [==============================] - 44s 12ms/step - loss: 0.4873 - accuracy: 0.8134 - val_loss: 0.4802 - val_accuracy: 0.8167\n",
      "Epoch 9/8000000\n",
      "3707/3707 [==============================] - 44s 12ms/step - loss: 0.4802 - accuracy: 0.8137 - val_loss: 0.4788 - val_accuracy: 0.8130\n",
      "Epoch 10/8000000\n",
      "3707/3707 [==============================] - 44s 12ms/step - loss: 0.4781 - accuracy: 0.8143 - val_loss: 0.4872 - val_accuracy: 0.8091\n",
      "Epoch 11/8000000\n",
      "3707/3707 [==============================] - 44s 12ms/step - loss: 0.4805 - accuracy: 0.8146 - val_loss: 0.4722 - val_accuracy: 0.8160\n",
      "Epoch 12/8000000\n",
      "3707/3707 [==============================] - 44s 12ms/step - loss: 0.4799 - accuracy: 0.8152 - val_loss: 0.4879 - val_accuracy: 0.8098\n",
      "Epoch 13/8000000\n",
      "3707/3707 [==============================] - 44s 12ms/step - loss: 0.4769 - accuracy: 0.8167 - val_loss: 0.4699 - val_accuracy: 0.8177\n",
      "Epoch 14/8000000\n",
      "3707/3707 [==============================] - 44s 12ms/step - loss: 0.4704 - accuracy: 0.8183 - val_loss: 0.4668 - val_accuracy: 0.8211\n",
      "Epoch 15/8000000\n",
      "3707/3707 [==============================] - 44s 12ms/step - loss: 0.4685 - accuracy: 0.8193 - val_loss: 0.4755 - val_accuracy: 0.8183\n",
      "Epoch 16/8000000\n",
      "3707/3707 [==============================] - 44s 12ms/step - loss: 0.4681 - accuracy: 0.8199 - val_loss: 0.4591 - val_accuracy: 0.8232\n",
      "Epoch 17/8000000\n",
      "3707/3707 [==============================] - 44s 12ms/step - loss: 0.4655 - accuracy: 0.8210 - val_loss: 0.4809 - val_accuracy: 0.8143\n",
      "Epoch 18/8000000\n",
      "3707/3707 [==============================] - 44s 12ms/step - loss: 0.4660 - accuracy: 0.8227 - val_loss: 0.4597 - val_accuracy: 0.8241\n",
      "Epoch 19/8000000\n",
      "3707/3707 [==============================] - 44s 12ms/step - loss: 0.4615 - accuracy: 0.8238 - val_loss: 0.4588 - val_accuracy: 0.8236\n",
      "Epoch 20/8000000\n",
      "3707/3707 [==============================] - 44s 12ms/step - loss: 0.4628 - accuracy: 0.8243 - val_loss: 0.4669 - val_accuracy: 0.8225\n",
      "Epoch 21/8000000\n",
      "3707/3707 [==============================] - 44s 12ms/step - loss: 0.4611 - accuracy: 0.8246 - val_loss: 0.4709 - val_accuracy: 0.8242\n",
      "Epoch 22/8000000\n",
      "3707/3707 [==============================] - 44s 12ms/step - loss: 0.4648 - accuracy: 0.8253 - val_loss: 0.4798 - val_accuracy: 0.8205\n",
      "Epoch 23/8000000\n",
      "3707/3707 [==============================] - 44s 12ms/step - loss: 0.4623 - accuracy: 0.8259 - val_loss: 0.4574 - val_accuracy: 0.8288\n",
      "Epoch 24/8000000\n",
      "3707/3707 [==============================] - 44s 12ms/step - loss: 0.4605 - accuracy: 0.8265 - val_loss: 0.4536 - val_accuracy: 0.8316\n",
      "Epoch 25/8000000\n",
      "3707/3707 [==============================] - 44s 12ms/step - loss: 0.4625 - accuracy: 0.8277 - val_loss: 0.4688 - val_accuracy: 0.8191\n",
      "Epoch 26/8000000\n",
      "3707/3707 [==============================] - 44s 12ms/step - loss: 0.4625 - accuracy: 0.8284 - val_loss: 0.4570 - val_accuracy: 0.8303\n",
      "Epoch 27/8000000\n",
      "3707/3707 [==============================] - 44s 12ms/step - loss: 0.4564 - accuracy: 0.8296 - val_loss: 0.4539 - val_accuracy: 0.8321\n",
      "Epoch 28/8000000\n",
      "3707/3707 [==============================] - 44s 12ms/step - loss: 0.4605 - accuracy: 0.8304 - val_loss: 0.4695 - val_accuracy: 0.8202\n",
      "Epoch 29/8000000\n",
      "3707/3707 [==============================] - 44s 12ms/step - loss: 0.4613 - accuracy: 0.8306 - val_loss: 0.4542 - val_accuracy: 0.8298\n",
      "Epoch 30/8000000\n",
      "3707/3707 [==============================] - 44s 12ms/step - loss: 0.4642 - accuracy: 0.8313 - val_loss: 0.4458 - val_accuracy: 0.8369\n",
      "Epoch 31/8000000\n",
      "3707/3707 [==============================] - 44s 12ms/step - loss: 0.4553 - accuracy: 0.8317 - val_loss: 0.4658 - val_accuracy: 0.8258\n",
      "Epoch 32/8000000\n",
      "3707/3707 [==============================] - 44s 12ms/step - loss: 0.4563 - accuracy: 0.8316 - val_loss: 0.4490 - val_accuracy: 0.8366\n",
      "Epoch 33/8000000\n",
      "3707/3707 [==============================] - 44s 12ms/step - loss: 0.4655 - accuracy: 0.8319 - val_loss: 0.4582 - val_accuracy: 0.8301\n",
      "Epoch 34/8000000\n",
      "3707/3707 [==============================] - 44s 12ms/step - loss: 0.4537 - accuracy: 0.8325 - val_loss: 0.4647 - val_accuracy: 0.8252\n",
      "Epoch 35/8000000\n",
      "3707/3707 [==============================] - 46s 12ms/step - loss: 0.4532 - accuracy: 0.8328 - val_loss: 0.4456 - val_accuracy: 0.8368\n",
      "Epoch 36/8000000\n",
      "3707/3707 [==============================] - 44s 12ms/step - loss: 0.4516 - accuracy: 0.8327 - val_loss: 0.4553 - val_accuracy: 0.8299\n",
      "Epoch 37/8000000\n",
      "3707/3707 [==============================] - 44s 12ms/step - loss: 0.4570 - accuracy: 0.8332 - val_loss: 0.4624 - val_accuracy: 0.8253\n",
      "Epoch 38/8000000\n",
      "3707/3707 [==============================] - 44s 12ms/step - loss: 0.4537 - accuracy: 0.8331 - val_loss: 0.4565 - val_accuracy: 0.8315\n",
      "Epoch 39/8000000\n",
      "3707/3707 [==============================] - 44s 12ms/step - loss: 0.4523 - accuracy: 0.8332 - val_loss: 0.4518 - val_accuracy: 0.8327\n",
      "Epoch 40/8000000\n",
      "3707/3707 [==============================] - 44s 12ms/step - loss: 0.4629 - accuracy: 0.8333 - val_loss: 0.4947 - val_accuracy: 0.8065\n",
      "Epoch 41/8000000\n",
      "3707/3707 [==============================] - 44s 12ms/step - loss: 0.4821 - accuracy: 0.8329 - val_loss: 0.4478 - val_accuracy: 0.8364\n",
      "Epoch 42/8000000\n",
      "3707/3707 [==============================] - 44s 12ms/step - loss: 0.4532 - accuracy: 0.8332 - val_loss: 0.4444 - val_accuracy: 0.8400\n",
      "Epoch 43/8000000\n",
      "3707/3707 [==============================] - 44s 12ms/step - loss: 0.4518 - accuracy: 0.8336 - val_loss: 0.4506 - val_accuracy: 0.8358\n",
      "Epoch 44/8000000\n",
      "3707/3707 [==============================] - 44s 12ms/step - loss: 0.4535 - accuracy: 0.8334 - val_loss: 0.4726 - val_accuracy: 0.8209\n",
      "Epoch 45/8000000\n",
      "3707/3707 [==============================] - 44s 12ms/step - loss: 0.4516 - accuracy: 0.8337 - val_loss: 0.4566 - val_accuracy: 0.8322\n",
      "Epoch 46/8000000\n",
      "3707/3707 [==============================] - 44s 12ms/step - loss: 0.4736 - accuracy: 0.8334 - val_loss: 0.4515 - val_accuracy: 0.8337\n",
      "Epoch 47/8000000\n",
      "3707/3707 [==============================] - 44s 12ms/step - loss: 0.4531 - accuracy: 0.8335 - val_loss: 0.4989 - val_accuracy: 0.8073\n",
      "Epoch 48/8000000\n",
      "3707/3707 [==============================] - 44s 12ms/step - loss: 0.4564 - accuracy: 0.8338 - val_loss: 0.4467 - val_accuracy: 0.8414\n",
      "Epoch 49/8000000\n",
      "3707/3707 [==============================] - 44s 12ms/step - loss: 0.4511 - accuracy: 0.8340 - val_loss: 0.5049 - val_accuracy: 0.8021\n",
      "Epoch 50/8000000\n",
      "3707/3707 [==============================] - 44s 12ms/step - loss: 0.4531 - accuracy: 0.8337 - val_loss: 0.4697 - val_accuracy: 0.8204\n",
      "Epoch 51/8000000\n",
      "3707/3707 [==============================] - 44s 12ms/step - loss: 0.4653 - accuracy: 0.8341 - val_loss: 0.4589 - val_accuracy: 0.8275\n",
      "Epoch 52/8000000\n",
      "3707/3707 [==============================] - 44s 12ms/step - loss: 0.4640 - accuracy: 0.8336 - val_loss: 0.4539 - val_accuracy: 0.8297\n"
     ]
    }
   ],
   "source": [
    "import keras\n",
    "from keras.callbacks import EarlyStopping\n",
    "\n",
    "# early stopping callback\n",
    "# This callback will stop the training when there is no improvement in  \n",
    "# the validation loss for 10 consecutive epochs.  \n",
    "es = keras.callbacks.EarlyStopping(monitor='val_loss', \n",
    "                                   mode='min',\n",
    "                                   patience=10, \n",
    "                                   restore_best_weights=True) # important - otherwise you just return the last weigths...\n",
    "\n",
    "# now we just update our model fit call\n",
    "history = model.fit(X,\n",
    "                    dummy_y,\n",
    "                    callbacks=[es],\n",
    "                    epochs=8000000, # you can set this to a big number!\n",
    "                    batch_size=300,\n",
    "                    shuffle=True,\n",
    "                    validation_split=0.2,\n",
    "                    verbose=1)"
   ]
  },
  {
   "cell_type": "code",
   "execution_count": 7,
   "id": "2b50ad86",
   "metadata": {},
   "outputs": [
    {
     "data": {
      "image/png": "[encoded data removed]",
      "text/plain": [
       "<Figure size 640x480 with 1 Axes>"
      ]
     },
     "metadata": {},
     "output_type": "display_data"
    }
   ],
   "source": [
    "history_dict = history.history\n",
    "\n",
    "# learning curve\n",
    "# accuracy\n",
    "acc = history_dict['accuracy']\n",
    "val_acc = history_dict['val_accuracy']\n",
    "\n",
    "# loss\n",
    "loss = history_dict['loss']\n",
    "val_loss = history_dict['val_loss']\n",
    "\n",
    "# range of X (no. of epochs)\n",
    "epochs = range(1, len(acc) + 1)\n",
    "\n",
    "# plot\n",
    "# \"r\" is for \"solid red line\"\n",
    "plt.plot(epochs, acc, 'r', label='Training accuracy')\n",
    "# b is for \"solid blue line\"\n",
    "plt.plot(epochs, val_acc, 'b', label='Validation accuracy')\n",
    "plt.title('Training and validation accuracy')\n",
    "plt.xlabel('Epochs')\n",
    "plt.ylabel('Accuracy')\n",
    "plt.legend()\n",
    "\n",
    "plt.show()"
   ]
  },
  {
   "cell_type": "code",
   "execution_count": 8,
   "id": "50eee621",
   "metadata": {},
   "outputs": [
    {
     "name": "stdout",
     "output_type": "stream",
     "text": [
      "   89/43436 [..............................] - ETA: 1:15"
     ]
    },
    {
     "name": "stderr",
     "output_type": "stream",
     "text": [
      "2022-11-16 01:14:09.725239: I tensorflow/core/grappler/optimizers/custom_graph_optimizer_registry.cc:113] Plugin optimizer for device_type GPU is enabled.\n"
     ]
    },
    {
     "name": "stdout",
     "output_type": "stream",
     "text": [
      "43436/43436 [==============================] - 71s 2ms/step\n",
      "[0.9088226  0.028437   0.06274036]\n",
      "1.0\n"
     ]
    },
    {
     "name": "stderr",
     "output_type": "stream",
     "text": [
      "/Users/maxencecabiddu/opt/miniconda3/envs/tensorflow/lib/python3.9/site-packages/sklearn/metrics/_classification.py:1334: UndefinedMetricWarning: Precision and F-score are ill-defined and being set to 0.0 in labels with no predicted samples. Use `zero_division` parameter to control this behavior.\n",
      "  _warn_prf(average, modifier, msg_start, len(result))\n",
      "/Users/maxencecabiddu/opt/miniconda3/envs/tensorflow/lib/python3.9/site-packages/sklearn/metrics/_classification.py:1334: UndefinedMetricWarning: Precision and F-score are ill-defined and being set to 0.0 in labels with no predicted samples. Use `zero_division` parameter to control this behavior.\n",
      "  _warn_prf(average, modifier, msg_start, len(result))\n"
     ]
    },
    {
     "name": "stdout",
     "output_type": "stream",
     "text": [
      "              precision    recall  f1-score   support\n",
      "\n",
      "           0       0.88      0.93      0.90   1048270\n",
      "           1       0.69      0.70      0.70    278468\n",
      "           2       0.00      0.00      0.00     63199\n",
      "\n",
      "    accuracy                           0.84   1389937\n",
      "   macro avg       0.52      0.54      0.53   1389937\n",
      "weighted avg       0.80      0.84      0.82   1389937\n",
      "\n"
     ]
    },
    {
     "name": "stderr",
     "output_type": "stream",
     "text": [
      "/Users/maxencecabiddu/opt/miniconda3/envs/tensorflow/lib/python3.9/site-packages/sklearn/metrics/_classification.py:1334: UndefinedMetricWarning: Precision and F-score are ill-defined and being set to 0.0 in labels with no predicted samples. Use `zero_division` parameter to control this behavior.\n",
      "  _warn_prf(average, modifier, msg_start, len(result))\n"
     ]
    }
   ],
   "source": [
    "from sklearn.metrics import confusion_matrix\n",
    "from sklearn.metrics import classification_report\n",
    "\n",
    "preds = model.predict(X) # see how the model did!\n",
    "print(preds[0]) # i'm spreading that prediction across three nodes and they sum to 1\n",
    "print(np.sum(preds[0])) # sum it up! Should be 1\n",
    "## [9.9999988e-01 1.3509347e-07 6.7064638e-16]\n",
    "## 1.0\n",
    "\n",
    "# Almost a perfect prediction\n",
    "# actual is left, predicted is top\n",
    "# names can be found by inspecting Y\n",
    "matrix = confusion_matrix(dummy_y.argmax(axis=1), preds.argmax(axis=1))\n",
    "matrix\n",
    "## array([[50,  0,  0],\n",
    "##        [ 0, 46,  4],\n",
    "##        [ 0,  1, 49]])\n",
    "\n",
    "\n",
    "# more detail on how well things were predicted\n",
    "print(classification_report(dummy_y.argmax(axis=1), preds.argmax(axis=1)))\n",
    "##               precision    recall  f1-score   support\n",
    "## \n",
    "##            0       1.00      1.00      1.00        50\n",
    "##            1       0.98      0.92      0.95        50\n",
    "##            2       0.92      0.98      0.95        50\n",
    "## \n",
    "##     accuracy                           0.97       150\n",
    "##    macro avg       0.97      0.97      0.97       150\n",
    "## weighted avg       0.97      0.97      0.97       150"
   ]
  },
  {
   "cell_type": "code",
   "execution_count": null,
   "id": "5ea521cf",
   "metadata": {},
   "outputs": [],
   "source": []
  }
 ],
 "metadata": {
  "kernelspec": {
   "display_name": "Python 3.9 (tensorflow)",
   "language": "python",
   "name": "tensorflow"
  },
  "language_info": {
   "codemirror_mode": {
    "name": "ipython",
    "version": 3
   },
   "file_extension": ".py",
   "mimetype": "text/x-python",
   "name": "python",
   "nbconvert_exporter": "python",
   "pygments_lexer": "ipython3",
   "version": "3.9.13"
  }
 },
 "nbformat": 4,
 "nbformat_minor": 5
}
