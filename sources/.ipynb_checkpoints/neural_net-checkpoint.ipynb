{
 "cells": [
  {
   "cell_type": "code",
   "execution_count": 1,
   "id": "d60054b1",
   "metadata": {},
   "outputs": [],
   "source": [
    "# for reading data\n",
    "import pandas as pd\n",
    "import numpy as np\n",
    "import matplotlib.pyplot as plt\n",
    "from sklearn.preprocessing import LabelEncoder\n",
    "from keras.wrappers.scikit_learn import KerasClassifier\n",
    "from keras.utils import np_utils\n",
    "\n",
    "# for modeling\n",
    "from keras.models import Sequential\n",
    "from keras.layers import Dense, Dropout\n",
    "from keras.callbacks import EarlyStopping"
   ]
  },
  {
   "cell_type": "code",
   "execution_count": 2,
   "id": "2a70a989",
   "metadata": {},
   "outputs": [],
   "source": [
    "# read in the data\n",
    "# url = 'https://gist.githubusercontent.com/curran/a08a1080b88344b0c8a7/raw/639388c2cbc2120a14dcf466e85730eb8be498bb/iris.csv'\n",
    "df = pd.read_csv('../data/wildfire_dataset.csv')\n",
    "\n",
    "# shuffle the dataset! \n",
    "df = df.sample(frac=1).reset_index(drop=True)"
   ]
  },
  {
   "cell_type": "code",
   "execution_count": 3,
   "id": "84a75136",
   "metadata": {},
   "outputs": [
    {
     "name": "stdout",
     "output_type": "stream",
     "text": [
      "(1389937, 5)\n",
      "(1389937,)\n"
     ]
    }
   ],
   "source": [
    "le = LabelEncoder()\n",
    "df['STAT_CAUSE_DESCR'] = le.fit_transform(df['STAT_CAUSE_DESCR'])\n",
    "df['STATE'] = le.fit_transform(df['STATE'])\n",
    "df['DATE'] = le.fit_transform(df['DATE'])\n",
    "\n",
    "df = df.drop('OBJECTID',axis=1)\n",
    "df = df.drop('NWCG_REPORTING_UNIT_NAME',axis=1)\n",
    "df = df.drop('FIRE_SIZE_CLASS',axis=1)\n",
    "df = df.drop('OWNER_DESCR',axis=1)\n",
    "df = df.drop('DATE',axis=1)\n",
    "df = df.dropna()\n",
    "    \n",
    "# split into X and Y\n",
    "# Y = df['species']\n",
    "# X = df.drop(['species'], axis=1)\n",
    "\n",
    "Y = df['STAT_CAUSE_DESCR']\n",
    "X = df.drop(['STAT_CAUSE_DESCR'], axis=1)\n",
    "\n",
    "print(X.shape)\n",
    "print(Y.shape)\n",
    "# convert to numpy arrays\n",
    "X = np.array(X)"
   ]
  },
  {
   "cell_type": "code",
   "execution_count": 4,
   "id": "2b4f08d6",
   "metadata": {},
   "outputs": [
    {
     "name": "stdout",
     "output_type": "stream",
     "text": [
      "[1 0 1 ... 0 0 0]\n",
      "[[0. 1. 0.]\n",
      " [1. 0. 0.]\n",
      " [0. 1. 0.]\n",
      " ...\n",
      " [1. 0. 0.]\n",
      " [1. 0. 0.]\n",
      " [1. 0. 0.]]\n"
     ]
    }
   ],
   "source": [
    "# # show Y\n",
    "# Y.head()\n",
    "\n",
    "# ## 0        setosa\n",
    "# ## 1     virginica\n",
    "# ## 2    versicolor\n",
    "# ## 3     virginica\n",
    "# ## 4        setosa\n",
    "\n",
    "# work with labels\n",
    "# encode class values as integers\n",
    "encoder = LabelEncoder()\n",
    "encoder.fit(Y)\n",
    "encoded_Y = encoder.transform(Y)\n",
    "# convert integers to dummy variables (i.e. one hot encoded)\n",
    "dummy_y = np_utils.to_categorical(encoded_Y)\n",
    "\n",
    "print(encoded_Y)\n",
    "\n",
    "print(dummy_y)"
   ]
  },
  {
   "cell_type": "code",
   "execution_count": 5,
   "id": "01047831",
   "metadata": {},
   "outputs": [
    {
     "name": "stdout",
     "output_type": "stream",
     "text": [
      "Metal device set to: Apple M1 Pro\n",
      "Model: \"sequential\"\n",
      "_________________________________________________________________\n",
      " Layer (type)                Output Shape              Param #   \n",
      "=================================================================\n",
      " dense (Dense)               (None, 8)                 48        \n",
      "                                                                 \n",
      " dense_1 (Dense)             (None, 3)                 27        \n",
      "                                                                 \n",
      "=================================================================\n",
      "Total params: 75\n",
      "Trainable params: 75\n",
      "Non-trainable params: 0\n",
      "_________________________________________________________________\n"
     ]
    },
    {
     "name": "stderr",
     "output_type": "stream",
     "text": [
      "2022-11-15 23:07:58.509118: I tensorflow/core/common_runtime/pluggable_device/pluggable_device_factory.cc:305] Could not identify NUMA node of platform GPU ID 0, defaulting to 0. Your kernel may not have been built with NUMA support.\n",
      "2022-11-15 23:07:58.509227: I tensorflow/core/common_runtime/pluggable_device/pluggable_device_factory.cc:271] Created TensorFlow device (/job:localhost/replica:0/task:0/device:GPU:0 with 0 MB memory) -> physical PluggableDevice (device: 0, name: METAL, pci bus id: <undefined>)\n"
     ]
    }
   ],
   "source": [
    "# build a model\n",
    "model = Sequential()\n",
    "model.add(Dense(16, input_shape=(X.shape[1],), activation='relu')) # input shape is (features,)\n",
    "model.add(Dense(8, activation='relu')) # input shape is (features,)\n",
    "model.add(Dense(3, activation='softmax'))\n",
    "model.summary()\n",
    "\n",
    "# compile the model\n",
    "model.compile(optimizer='rmsprop', \n",
    "              loss='categorical_crossentropy', # this is different instead of binary_crossentropy (for regular classification)\n",
    "              metrics=['accuracy'])"
   ]
  },
  {
   "cell_type": "code",
   "execution_count": 6,
   "id": "7f2b7dad",
   "metadata": {
    "scrolled": false
   },
   "outputs": [
    {
     "name": "stdout",
     "output_type": "stream",
     "text": [
      "Epoch 1/8000000\n"
     ]
    },
    {
     "name": "stderr",
     "output_type": "stream",
     "text": [
      "2022-11-15 23:07:58.655371: W tensorflow/core/platform/profile_utils/cpu_utils.cc:128] Failed to get CPU frequency: 0 Hz\n",
      "2022-11-15 23:07:58.861694: I tensorflow/core/grappler/optimizers/custom_graph_optimizer_registry.cc:113] Plugin optimizer for device_type GPU is enabled.\n"
     ]
    },
    {
     "name": "stdout",
     "output_type": "stream",
     "text": [
      "3707/3707 [==============================] - ETA: 0s - loss: 2.8931 - accuracy: 0.7150"
     ]
    },
    {
     "name": "stderr",
     "output_type": "stream",
     "text": [
      "2022-11-15 23:08:36.882387: I tensorflow/core/grappler/optimizers/custom_graph_optimizer_registry.cc:113] Plugin optimizer for device_type GPU is enabled.\n"
     ]
    },
    {
     "name": "stdout",
     "output_type": "stream",
     "text": [
      "3707/3707 [==============================] - 45s 12ms/step - loss: 2.8931 - accuracy: 0.7150 - val_loss: 0.6993 - val_accuracy: 0.7544\n",
      "Epoch 2/8000000\n",
      "3707/3707 [==============================] - 44s 12ms/step - loss: 0.7046 - accuracy: 0.7421 - val_loss: 0.6767 - val_accuracy: 0.7228\n",
      "Epoch 3/8000000\n",
      "3707/3707 [==============================] - 45s 12ms/step - loss: 0.6784 - accuracy: 0.7430 - val_loss: 0.6406 - val_accuracy: 0.7306\n",
      "Epoch 4/8000000\n",
      "3707/3707 [==============================] - 44s 12ms/step - loss: 0.6691 - accuracy: 0.7431 - val_loss: 0.6366 - val_accuracy: 0.7340\n",
      "Epoch 5/8000000\n",
      "3707/3707 [==============================] - 44s 12ms/step - loss: 0.6604 - accuracy: 0.7438 - val_loss: 0.6766 - val_accuracy: 0.7549\n",
      "Epoch 6/8000000\n",
      "3707/3707 [==============================] - 44s 12ms/step - loss: 0.6523 - accuracy: 0.7443 - val_loss: 0.6459 - val_accuracy: 0.7459\n",
      "Epoch 7/8000000\n",
      "3707/3707 [==============================] - 43s 12ms/step - loss: 0.6462 - accuracy: 0.7438 - val_loss: 0.6497 - val_accuracy: 0.7473\n",
      "Epoch 8/8000000\n",
      "3707/3707 [==============================] - 44s 12ms/step - loss: 0.6463 - accuracy: 0.7446 - val_loss: 0.6226 - val_accuracy: 0.7423\n",
      "Epoch 9/8000000\n",
      "3707/3707 [==============================] - 44s 12ms/step - loss: 0.6339 - accuracy: 0.7442 - val_loss: 0.6131 - val_accuracy: 0.7454\n",
      "Epoch 10/8000000\n",
      "3707/3707 [==============================] - 44s 12ms/step - loss: 0.6277 - accuracy: 0.7437 - val_loss: 0.6323 - val_accuracy: 0.7550\n",
      "Epoch 11/8000000\n",
      "3707/3707 [==============================] - 44s 12ms/step - loss: 0.6265 - accuracy: 0.7444 - val_loss: 0.6069 - val_accuracy: 0.7360\n",
      "Epoch 12/8000000\n",
      "3707/3707 [==============================] - 44s 12ms/step - loss: 0.6222 - accuracy: 0.7435 - val_loss: 0.6567 - val_accuracy: 0.7458\n",
      "Epoch 13/8000000\n",
      "3707/3707 [==============================] - 44s 12ms/step - loss: 0.6185 - accuracy: 0.7433 - val_loss: 0.5978 - val_accuracy: 0.7430\n",
      "Epoch 14/8000000\n",
      "3707/3707 [==============================] - 44s 12ms/step - loss: 0.6143 - accuracy: 0.7431 - val_loss: 0.6003 - val_accuracy: 0.7520\n",
      "Epoch 15/8000000\n",
      "3707/3707 [==============================] - 44s 12ms/step - loss: 0.6093 - accuracy: 0.7430 - val_loss: 0.6000 - val_accuracy: 0.7341\n",
      "Epoch 16/8000000\n",
      "3707/3707 [==============================] - 44s 12ms/step - loss: 0.6066 - accuracy: 0.7423 - val_loss: 0.7459 - val_accuracy: 0.7470\n",
      "Epoch 17/8000000\n",
      "3707/3707 [==============================] - 44s 12ms/step - loss: 0.6008 - accuracy: 0.7418 - val_loss: 0.5985 - val_accuracy: 0.7335\n",
      "Epoch 18/8000000\n",
      "3707/3707 [==============================] - 43s 12ms/step - loss: 0.5745 - accuracy: 0.7533 - val_loss: 0.5429 - val_accuracy: 0.7886\n",
      "Epoch 19/8000000\n",
      "3707/3707 [==============================] - 44s 12ms/step - loss: 0.5296 - accuracy: 0.7971 - val_loss: 0.5237 - val_accuracy: 0.7982\n",
      "Epoch 20/8000000\n",
      "3707/3707 [==============================] - 44s 12ms/step - loss: 0.5223 - accuracy: 0.7985 - val_loss: 0.5202 - val_accuracy: 0.8016\n",
      "Epoch 21/8000000\n",
      "3707/3707 [==============================] - 44s 12ms/step - loss: 0.5209 - accuracy: 0.7990 - val_loss: 0.5193 - val_accuracy: 0.8013\n",
      "Epoch 22/8000000\n",
      "3707/3707 [==============================] - 44s 12ms/step - loss: 0.5196 - accuracy: 0.7990 - val_loss: 0.5181 - val_accuracy: 0.8004\n",
      "Epoch 23/8000000\n",
      "3707/3707 [==============================] - 44s 12ms/step - loss: 0.5190 - accuracy: 0.7988 - val_loss: 0.5167 - val_accuracy: 0.8003\n",
      "Epoch 24/8000000\n",
      "3707/3707 [==============================] - 43s 12ms/step - loss: 0.5186 - accuracy: 0.7989 - val_loss: 0.5167 - val_accuracy: 0.8006\n",
      "Epoch 25/8000000\n",
      "3707/3707 [==============================] - 43s 12ms/step - loss: 0.5184 - accuracy: 0.7987 - val_loss: 0.5167 - val_accuracy: 0.8015\n",
      "Epoch 26/8000000\n",
      "3707/3707 [==============================] - 45s 12ms/step - loss: 0.5179 - accuracy: 0.7989 - val_loss: 0.5149 - val_accuracy: 0.8006\n",
      "Epoch 27/8000000\n",
      "3707/3707 [==============================] - 46s 12ms/step - loss: 0.5177 - accuracy: 0.7987 - val_loss: 0.5145 - val_accuracy: 0.8011\n",
      "Epoch 28/8000000\n",
      "3707/3707 [==============================] - 46s 12ms/step - loss: 0.5179 - accuracy: 0.7985 - val_loss: 0.5188 - val_accuracy: 0.7935\n",
      "Epoch 29/8000000\n",
      "3707/3707 [==============================] - 46s 12ms/step - loss: 0.5173 - accuracy: 0.7986 - val_loss: 0.5164 - val_accuracy: 0.7994\n",
      "Epoch 30/8000000\n",
      "3707/3707 [==============================] - 46s 13ms/step - loss: 0.5171 - accuracy: 0.7986 - val_loss: 0.5176 - val_accuracy: 0.7970\n",
      "Epoch 31/8000000\n",
      "3707/3707 [==============================] - 47s 13ms/step - loss: 0.5169 - accuracy: 0.7985 - val_loss: 0.5164 - val_accuracy: 0.8013\n",
      "Epoch 32/8000000\n",
      "3707/3707 [==============================] - 47s 13ms/step - loss: 0.5165 - accuracy: 0.7985 - val_loss: 0.5270 - val_accuracy: 0.7952\n",
      "Epoch 33/8000000\n",
      "3707/3707 [==============================] - 48s 13ms/step - loss: 0.5166 - accuracy: 0.7985 - val_loss: 0.5142 - val_accuracy: 0.7972\n",
      "Epoch 34/8000000\n",
      "3707/3707 [==============================] - 47s 13ms/step - loss: 0.5160 - accuracy: 0.7985 - val_loss: 0.5229 - val_accuracy: 0.7933\n",
      "Epoch 35/8000000\n",
      "3707/3707 [==============================] - 47s 13ms/step - loss: 0.5158 - accuracy: 0.7984 - val_loss: 0.5158 - val_accuracy: 0.8000\n",
      "Epoch 36/8000000\n",
      "3707/3707 [==============================] - 47s 13ms/step - loss: 0.5156 - accuracy: 0.7984 - val_loss: 0.5151 - val_accuracy: 0.8006\n",
      "Epoch 37/8000000\n",
      "3707/3707 [==============================] - 47s 13ms/step - loss: 0.5152 - accuracy: 0.7985 - val_loss: 0.5129 - val_accuracy: 0.8007\n",
      "Epoch 38/8000000\n",
      "3707/3707 [==============================] - 46s 12ms/step - loss: 0.5151 - accuracy: 0.7983 - val_loss: 0.5122 - val_accuracy: 0.8004\n",
      "Epoch 39/8000000\n",
      "3707/3707 [==============================] - 47s 13ms/step - loss: 0.5152 - accuracy: 0.7982 - val_loss: 0.5171 - val_accuracy: 0.7990\n",
      "Epoch 40/8000000\n",
      "3707/3707 [==============================] - 47s 13ms/step - loss: 0.5150 - accuracy: 0.7985 - val_loss: 0.5141 - val_accuracy: 0.7993\n",
      "Epoch 41/8000000\n",
      "3707/3707 [==============================] - 46s 13ms/step - loss: 0.5144 - accuracy: 0.7980 - val_loss: 0.5146 - val_accuracy: 0.7970\n",
      "Epoch 42/8000000\n",
      "3707/3707 [==============================] - 46s 13ms/step - loss: 0.5141 - accuracy: 0.7981 - val_loss: 0.5226 - val_accuracy: 0.7955\n",
      "Epoch 43/8000000\n",
      "3707/3707 [==============================] - 46s 12ms/step - loss: 0.5134 - accuracy: 0.7978 - val_loss: 0.5214 - val_accuracy: 0.7923\n",
      "Epoch 44/8000000\n",
      "3707/3707 [==============================] - 47s 13ms/step - loss: 0.5134 - accuracy: 0.7976 - val_loss: 0.5169 - val_accuracy: 0.7930\n",
      "Epoch 45/8000000\n",
      "3707/3707 [==============================] - 48s 13ms/step - loss: 0.5125 - accuracy: 0.7975 - val_loss: 0.5129 - val_accuracy: 0.7976\n",
      "Epoch 46/8000000\n",
      "3707/3707 [==============================] - 47s 13ms/step - loss: 0.5131 - accuracy: 0.7972 - val_loss: 0.5200 - val_accuracy: 0.7934\n",
      "Epoch 47/8000000\n",
      "3707/3707 [==============================] - 47s 13ms/step - loss: 0.5125 - accuracy: 0.7970 - val_loss: 0.5141 - val_accuracy: 0.7940\n",
      "Epoch 48/8000000\n",
      "3707/3707 [==============================] - 47s 13ms/step - loss: 0.5122 - accuracy: 0.7969 - val_loss: 0.5123 - val_accuracy: 0.7951\n"
     ]
    }
   ],
   "source": [
    "import keras\n",
    "from keras.callbacks import EarlyStopping\n",
    "\n",
    "# early stopping callback\n",
    "# This callback will stop the training when there is no improvement in  \n",
    "# the validation loss for 10 consecutive epochs.  \n",
    "es = keras.callbacks.EarlyStopping(monitor='val_loss', \n",
    "                                   mode='min',\n",
    "                                   patience=10, \n",
    "                                   restore_best_weights=True) # important - otherwise you just return the last weigths...\n",
    "\n",
    "# now we just update our model fit call\n",
    "history = model.fit(X,\n",
    "                    dummy_y,\n",
    "                    callbacks=[es],\n",
    "                    epochs=8000000, # you can set this to a big number!\n",
    "                    batch_size=300,\n",
    "                    shuffle=True,\n",
    "                    validation_split=0.2,\n",
    "                    verbose=1)"
   ]
  },
  {
   "cell_type": "code",
   "execution_count": 7,
   "id": "72806e06",
   "metadata": {},
   "outputs": [
    {
     "data": {
      "image/png": "[encoded data removed]",
      "text/plain": [
       "<Figure size 640x480 with 1 Axes>"
      ]
     },
     "metadata": {},
     "output_type": "display_data"
    }
   ],
   "source": [
    "history_dict = history.history\n",
    "\n",
    "# learning curve\n",
    "# accuracy\n",
    "acc = history_dict['accuracy']\n",
    "val_acc = history_dict['val_accuracy']\n",
    "\n",
    "# loss\n",
    "loss = history_dict['loss']\n",
    "val_loss = history_dict['val_loss']\n",
    "\n",
    "# range of X (no. of epochs)\n",
    "epochs = range(1, len(acc) + 1)\n",
    "\n",
    "# plot\n",
    "# \"r\" is for \"solid red line\"\n",
    "plt.plot(epochs, acc, 'r', label='Training accuracy')\n",
    "# b is for \"solid blue line\"\n",
    "plt.plot(epochs, val_acc, 'b', label='Validation accuracy')\n",
    "plt.title('Training and validation accuracy')\n",
    "plt.xlabel('Epochs')\n",
    "plt.ylabel('Accuracy')\n",
    "plt.legend()\n",
    "\n",
    "plt.show()"
   ]
  },
  {
   "cell_type": "code",
   "execution_count": 8,
   "id": "ed1473d3",
   "metadata": {},
   "outputs": [
    {
     "name": "stdout",
     "output_type": "stream",
     "text": [
      "   82/43436 [..............................] - ETA: 1:21"
     ]
    },
    {
     "name": "stderr",
     "output_type": "stream",
     "text": [
      "2022-11-15 23:44:12.123201: I tensorflow/core/grappler/optimizers/custom_graph_optimizer_registry.cc:113] Plugin optimizer for device_type GPU is enabled.\n"
     ]
    },
    {
     "name": "stdout",
     "output_type": "stream",
     "text": [
      "43436/43436 [==============================] - 84s 2ms/step\n",
      "[0.4704874  0.48480052 0.04471209]\n",
      "1.0\n"
     ]
    },
    {
     "name": "stderr",
     "output_type": "stream",
     "text": [
      "/Users/maxencecabiddu/opt/miniconda3/envs/tensorflow/lib/python3.9/site-packages/sklearn/metrics/_classification.py:1334: UndefinedMetricWarning: Precision and F-score are ill-defined and being set to 0.0 in labels with no predicted samples. Use `zero_division` parameter to control this behavior.\n",
      "  _warn_prf(average, modifier, msg_start, len(result))\n",
      "/Users/maxencecabiddu/opt/miniconda3/envs/tensorflow/lib/python3.9/site-packages/sklearn/metrics/_classification.py:1334: UndefinedMetricWarning: Precision and F-score are ill-defined and being set to 0.0 in labels with no predicted samples. Use `zero_division` parameter to control this behavior.\n",
      "  _warn_prf(average, modifier, msg_start, len(result))\n"
     ]
    },
    {
     "name": "stdout",
     "output_type": "stream",
     "text": [
      "              precision    recall  f1-score   support\n",
      "\n",
      "           0       0.84      0.91      0.88   1048270\n",
      "           1       0.61      0.56      0.58    278468\n",
      "           2       0.00      0.00      0.00     63199\n",
      "\n",
      "    accuracy                           0.80   1389937\n",
      "   macro avg       0.49      0.49      0.49   1389937\n",
      "weighted avg       0.76      0.80      0.78   1389937\n",
      "\n"
     ]
    },
    {
     "name": "stderr",
     "output_type": "stream",
     "text": [
      "/Users/maxencecabiddu/opt/miniconda3/envs/tensorflow/lib/python3.9/site-packages/sklearn/metrics/_classification.py:1334: UndefinedMetricWarning: Precision and F-score are ill-defined and being set to 0.0 in labels with no predicted samples. Use `zero_division` parameter to control this behavior.\n",
      "  _warn_prf(average, modifier, msg_start, len(result))\n"
     ]
    }
   ],
   "source": [
    "from sklearn.metrics import confusion_matrix\n",
    "from sklearn.metrics import classification_report\n",
    "\n",
    "preds = model.predict(X) # see how the model did!\n",
    "print(preds[0]) # i'm spreading that prediction across three nodes and they sum to 1\n",
    "print(np.sum(preds[0])) # sum it up! Should be 1\n",
    "## [9.9999988e-01 1.3509347e-07 6.7064638e-16]\n",
    "## 1.0\n",
    "\n",
    "# Almost a perfect prediction\n",
    "# actual is left, predicted is top\n",
    "# names can be found by inspecting Y\n",
    "matrix = confusion_matrix(dummy_y.argmax(axis=1), preds.argmax(axis=1))\n",
    "matrix\n",
    "## array([[50,  0,  0],\n",
    "##        [ 0, 46,  4],\n",
    "##        [ 0,  1, 49]])\n",
    "\n",
    "\n",
    "# more detail on how well things were predicted\n",
    "print(classification_report(dummy_y.argmax(axis=1), preds.argmax(axis=1)))\n",
    "##               precision    recall  f1-score   support\n",
    "## \n",
    "##            0       1.00      1.00      1.00        50\n",
    "##            1       0.98      0.92      0.95        50\n",
    "##            2       0.92      0.98      0.95        50\n",
    "## \n",
    "##     accuracy                           0.97       150\n",
    "##    macro avg       0.97      0.97      0.97       150\n",
    "## weighted avg       0.97      0.97      0.97       150"
   ]
  },
  {
   "cell_type": "code",
   "execution_count": null,
   "id": "95745b75",
   "metadata": {},
   "outputs": [],
   "source": []
  }
 ],
 "metadata": {
  "kernelspec": {
   "display_name": "Python 3.9 (tensorflow)",
   "language": "python",
   "name": "tensorflow"
  },
  "language_info": {
   "codemirror_mode": {
    "name": "ipython",
    "version": 3
   },
   "file_extension": ".py",
   "mimetype": "text/x-python",
   "name": "python",
   "nbconvert_exporter": "python",
   "pygments_lexer": "ipython3",
   "version": "3.9.13"
  }
 },
 "nbformat": 4,
 "nbformat_minor": 5
}
